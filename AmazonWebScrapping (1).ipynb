{
 "cells": [
  {
   "cell_type": "code",
   "execution_count": 1,
   "id": "f5cd6fae-dcca-42ec-95aa-0c8e702d9bda",
   "metadata": {},
   "outputs": [],
   "source": [
    "from bs4 import BeautifulSoup\n",
    "import requests\n",
    "#for sending email smtplib is imported\n",
    "import smtplib\n",
    "import time\n",
    "import datetime"
   ]
  },
  {
   "cell_type": "code",
   "execution_count": 2,
   "id": "32916640-34e1-4cd1-bb94-4578e11c61c6",
   "metadata": {},
   "outputs": [],
   "source": [
    "url='https://www.amazon.in/ASUS-Zephyrus-14-inch-Graphics-GA401QE-K2166TS/dp/B0B1HTXF14/ref=dp_prsubs_sccl_1/259-2504057-9862718?pd_rd_w=7uLXu&content-id=amzn1.sym.d17cf8d3-b7d8-48ec-9024-1645254f70e5&pf_rd_p=d17cf8d3-b7d8-48ec-9024-1645254f70e5&pf_rd_r=86ZQMPQBB2E7CYTTM210&pd_rd_wg=NaIx1&pd_rd_r=424293aa-2161-4906-aeb8-82b32f90322b&pd_rd_i=B0B1HTXF14&th=1'\n",
    "Header= {\"User-Agent\": \"Mozilla/5.0 (Windows NT 10.0; Win64; x64) AppleWebKit/537.36 (KHTML, like Gecko) Chrome/116.0.0.0 Safari/537.36/8mqNJauL-25\"}\n",
    "page=requests.get(url,headers=Header)\n"
   ]
  },
  {
   "cell_type": "code",
   "execution_count": 3,
   "id": "e46bedad-e456-481b-ab8a-70145fe27e93",
   "metadata": {},
   "outputs": [
    {
     "name": "stdout",
     "output_type": "stream",
     "text": [
      "\n",
      "             ASUS ROG Zephyrus G14, 14-inch (35.56 cms) WQHD 120Hz, AMD Ryzen 9 5900HS, RTX 3050 Ti 4GB Graphics, Gaming Laptop (16GB/1TB SSD/Windows 10/Office 2019/Gray/AniMe Matrix/1.7 kg), GA401QE-K2166TS\n",
      "            \n",
      "\n",
      "\n",
      "\n",
      "\n",
      "             -30%\n",
      "            \n",
      "\n",
      "\n",
      "              ₹1,39,900\n",
      "             \n",
      "\n",
      "\n",
      "               ₹\n",
      "              \n",
      "\n",
      "               1,39,900\n",
      "              \n",
      "\n",
      "\n",
      "\n",
      "\n",
      "\n",
      "\n",
      "\n",
      "\n",
      "\n",
      "               M.R.P.:\n",
      "               \n",
      "\n",
      "                 ₹1,98,999\n",
      "                \n",
      "\n",
      "                 ₹1,98,999\n",
      "                \n",
      "\n",
      "\n",
      "\n",
      "\n",
      "\n",
      "\n",
      "\n",
      "\n",
      "\n",
      "\n"
     ]
    }
   ],
   "source": [
    "soup1=BeautifulSoup(page.content,\"html.parser\")\n",
    "soup2=BeautifulSoup(soup1.prettify(),\"html.parser\")\n",
    "title=soup2.find(id='productTitle').get_text()\n",
    "price=soup2.find(id='corePriceDisplay_desktop_feature_div').get_text()\n",
    "print(title)\n",
    "print(price)"
   ]
  },
  {
   "cell_type": "code",
   "execution_count": 4,
   "id": "b5aea668-fc42-4b87-9607-8719c17625ba",
   "metadata": {},
   "outputs": [
    {
     "name": "stdout",
     "output_type": "stream",
     "text": [
      "ASUS ROG Zephyrus G14, 14-inch (35.56 cms) WQHD 120Hz, AMD Ryzen 9 5900HS, RTX 3050 Ti 4GB Graphics, Gaming Laptop (16GB/1TB SSD/Windows 10/Office 2019/Gray/AniMe Matrix/1.7 kg), GA401QE-K2166TS\n",
      "30%\n",
      "       \n"
     ]
    }
   ],
   "source": [
    "title=title.strip()\n",
    "price=price.strip()[1:12]\n",
    "print(title)\n",
    "print(price)"
   ]
  },
  {
   "cell_type": "code",
   "execution_count": 5,
   "id": "4f9416e2-a82b-4ac4-89e5-fc270e3d7950",
   "metadata": {},
   "outputs": [
    {
     "name": "stdout",
     "output_type": "stream",
     "text": [
      "2023-09-23\n"
     ]
    }
   ],
   "source": [
    " import datetime\n",
    " today=datetime.date.today()\n",
    " print(today)\n",
    "\n"
   ]
  },
  {
   "cell_type": "code",
   "execution_count": 6,
   "id": "637b4d92-6aa2-4a86-8df9-258208ffe638",
   "metadata": {},
   "outputs": [],
   "source": [
    " import csv\n",
    "header=['Date','Title','Price']\n",
    "data=[today,title,price]\n",
    "\n",
    "with open('AmazonWebScrappingProject.csv','w',newline='',encoding='UTF8') as f:\n",
    "    writer=csv.writer(f)\n",
    "    writer.writerow(header)\n",
    "    writer.writerow(data)\n"
   ]
  },
  {
   "cell_type": "code",
   "execution_count": 7,
   "id": "86fabd1d-5d8f-4571-a2e0-47657723c996",
   "metadata": {},
   "outputs": [
    {
     "name": "stdout",
     "output_type": "stream",
     "text": [
      "         Date                                              Title         Price\n",
      "0  2023-09-23  ASUS ROG Zephyrus G14, 14-inch (35.56 cms) WQH...  30%\\n       \n"
     ]
    }
   ],
   "source": [
    "import pandas as pd\n",
    "df=pd.read_csv(r\"C:\\Users\\iamvr\\AmazonWebScrappingProject.csv\")\n",
    "print(df)"
   ]
  },
  {
   "cell_type": "code",
   "execution_count": 8,
   "id": "d2bdb454-3291-4a36-a4b6-a1a668796932",
   "metadata": {},
   "outputs": [],
   "source": [
    "with open('AmazonWebScrappingProject.csv','a+',newline='',encoding='UTF8') as f:\n",
    "    writer=csv.writer(f)\n",
    "    writer.writerow(data)\n",
    "    \n"
   ]
  },
  {
   "cell_type": "code",
   "execution_count": 9,
   "id": "24a6e253-e6ac-47d6-9b49-9f3737eeae21",
   "metadata": {},
   "outputs": [],
   "source": [
    "def check_price():\n",
    "    url='https://www.amazon.in/ASUS-Zephyrus-14-inch-Graphics-GA401QE-K2166TS/dp/B0B1HTXF14/ref=dp_prsubs_sccl_1/259-2504057-9862718?pd_rd_w=7uLXu&content-id=amzn1.sym.d17cf8d3-b7d8-48ec-9024-1645254f70e5&pf_rd_p=d17cf8d3-b7d8-48ec-9024-1645254f70e5&pf_rd_r=86ZQMPQBB2E7CYTTM210&pd_rd_wg=NaIx1&pd_rd_r=424293aa-2161-4906-aeb8-82b32f90322b&pd_rd_i=B0B1HTXF14&th=1'\n",
    "    Header= {\"User-Agent\": \"Mozilla/5.0 (Windows NT 10.0; Win64; x64) AppleWebKit/537.36 (KHTML, like Gecko) Chrome/116.0.0.0 Safari/537.36/8mqNJauL-25\"}\n",
    "    page=requests.get(url,headers=Header)\n",
    "    soup1=BeautifulSoup(page.content,\"html.parser\")\n",
    "    soup2=BeautifulSoup(soup1.prettify(),\"html.parser\")\n",
    "    title=soup2.find(id='productTitle').get_text()\n",
    "    price=soup2.find(id='corePriceDisplay_desktop_feature_div').get_text()\n",
    "    title=title.strip()\n",
    "    price=price.strip()[1:12]\n",
    "    \n",
    "   \n",
    "\n",
    "    import datetime\n",
    "    today=datetime.date.today()\n",
    "\n",
    "    import csv\n",
    "    header=['Date','Title','Price']\n",
    "    data=[today,title,price]\n",
    "\n",
    "    with open('AmazonWebScrappingProject.csv','a+',newline='',encoding='UTF8') as f:\n",
    "       writer=csv.writer(f)\n",
    "       writer.writerow(data)\n",
    "\n",
    "    if(price<100000):\n",
    "        send_mail()\n",
    "\n",
    "    \n",
    "\n"
   ]
  },
  {
   "cell_type": "code",
   "execution_count": 10,
   "id": "da9a7dca-845a-42b5-91c3-dbb06cd4dd0a",
   "metadata": {
    "scrolled": true
   },
   "outputs": [
    {
     "name": "stdout",
     "output_type": "stream",
     "text": [
      "         Date                                              Title         Price\n",
      "0  2023-09-23  ASUS ROG Zephyrus G14, 14-inch (35.56 cms) WQH...  30%\\n       \n",
      "1  2023-09-23  ASUS ROG Zephyrus G14, 14-inch (35.56 cms) WQH...  30%\\n       \n"
     ]
    }
   ],
   "source": [
    "import pandas as pd\n",
    "df=pd.read_csv(r\"C:\\Users\\iamvr\\AmazonWebScrappingProject.csv\")\n",
    "print(df)"
   ]
  },
  {
   "cell_type": "code",
   "execution_count": 11,
   "id": "160c5526-ea68-4e56-9a0a-097177b00041",
   "metadata": {},
   "outputs": [
    {
     "ename": "KeyboardInterrupt",
     "evalue": "",
     "output_type": "error",
     "traceback": [
      "\u001b[1;31m---------------------------------------------------------------------------\u001b[0m",
      "\u001b[1;31mKeyboardInterrupt\u001b[0m                         Traceback (most recent call last)",
      "Cell \u001b[1;32mIn[11], line 3\u001b[0m\n\u001b[0;32m      1\u001b[0m \u001b[38;5;28;01mwhile\u001b[39;00m(\u001b[38;5;28;01mTrue\u001b[39;00m):\n\u001b[0;32m      2\u001b[0m     check_price()\n\u001b[1;32m----> 3\u001b[0m     \u001b[43mtime\u001b[49m\u001b[38;5;241;43m.\u001b[39;49m\u001b[43msleep\u001b[49m\u001b[43m(\u001b[49m\u001b[38;5;241;43m10\u001b[39;49m\u001b[43m)\u001b[49m\n",
      "\u001b[1;31mKeyboardInterrupt\u001b[0m: "
     ]
    }
   ],
   "source": [
    "while(True):\n",
    "    check_price()\n",
    "    time.sleep(10)\n",
    "    \n",
    "    "
   ]
  },
  {
   "cell_type": "code",
   "execution_count": 12,
   "id": "0642344f-6ab3-4912-b9f7-1783fcd7e539",
   "metadata": {},
   "outputs": [
    {
     "name": "stdout",
     "output_type": "stream",
     "text": [
      "         Date                                              Title         Price\n",
      "0  2023-09-23  ASUS ROG Zephyrus G14, 14-inch (35.56 cms) WQH...  30%\\n       \n",
      "1  2023-09-23  ASUS ROG Zephyrus G14, 14-inch (35.56 cms) WQH...  30%\\n       \n",
      "2  2023-09-23  ASUS ROG Zephyrus G14, 14-inch (35.56 cms) WQH...  30%\\n       \n"
     ]
    }
   ],
   "source": [
    "import pandas as pd\n",
    "df=pd.read_csv(r\"C:\\Users\\iamvr\\AmazonWebScrappingProject.csv\")\n",
    "print(df)"
   ]
  },
  {
   "cell_type": "code",
   "execution_count": null,
   "id": "648d828d-f1c4-44fd-84ad-17ab3f36f022",
   "metadata": {},
   "outputs": [],
   "source": []
  }
 ],
 "metadata": {
  "kernelspec": {
   "display_name": "Python 3 (ipykernel)",
   "language": "python",
   "name": "python3"
  },
  "language_info": {
   "codemirror_mode": {
    "name": "ipython",
    "version": 3
   },
   "file_extension": ".py",
   "mimetype": "text/x-python",
   "name": "python",
   "nbconvert_exporter": "python",
   "pygments_lexer": "ipython3",
   "version": "3.11.5"
  }
 },
 "nbformat": 4,
 "nbformat_minor": 5
}
